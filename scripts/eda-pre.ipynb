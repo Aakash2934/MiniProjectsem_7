{
 "cells": [
  {
   "cell_type": "code",
   "execution_count": 1,
   "id": "dcc48271",
   "metadata": {},
   "outputs": [
    {
     "name": "stderr",
     "output_type": "stream",
     "text": [
      "c:\\Users\\satis\\OneDrive\\Desktop\\MiniProjectsem_7\\venv\\Lib\\site-packages\\tqdm\\auto.py:21: TqdmWarning: IProgress not found. Please update jupyter and ipywidgets. See https://ipywidgets.readthedocs.io/en/stable/user_install.html\n",
      "  from .autonotebook import tqdm as notebook_tqdm\n"
     ]
    }
   ],
   "source": [
    "from ingest_data import fetch_data\n",
    "from segmentation import segmentation\n",
    "import pandas as pd\n",
    "import matplotlib.pyplot as plt\n",
    "import seaborn as sns\n",
    "from tqdm.auto import tqdm\n",
    "import os"
   ]
  },
  {
   "cell_type": "code",
   "execution_count": null,
   "id": "2e1dad21",
   "metadata": {},
   "outputs": [],
   "source": [
    "dataset_name = \"louisbrulenaudet/clinical-trials\"\n",
    "ds = fetch_data(dataset_name)"
   ]
  },
  {
   "cell_type": "code",
   "execution_count": null,
   "id": "ca9fafb4",
   "metadata": {},
   "outputs": [],
   "source": [
    "tqdm.pandas(desc=\"Segmenting Criteria\")"
   ]
  },
  {
   "cell_type": "code",
   "execution_count": null,
   "id": "ac49ff7b",
   "metadata": {},
   "outputs": [],
   "source": [
    "ds"
   ]
  },
  {
   "cell_type": "code",
   "execution_count": null,
   "id": "2cd6f3d7",
   "metadata": {},
   "outputs": [],
   "source": [
    "split = ds['train'].train_test_split(test_size=0.1, seed=42)\n",
    "split"
   ]
  },
  {
   "cell_type": "code",
   "execution_count": null,
   "id": "9dde8951",
   "metadata": {},
   "outputs": [],
   "source": [
    "df=split[\"train\"].to_pandas()\n",
    "df.head()"
   ]
  },
  {
   "cell_type": "code",
   "execution_count": null,
   "id": "5c46975f",
   "metadata": {},
   "outputs": [],
   "source": [
    "df.columns"
   ]
  },
  {
   "cell_type": "code",
   "execution_count": null,
   "id": "81f40a9e",
   "metadata": {},
   "outputs": [],
   "source": [
    "COLUMNS_TO_KEEP = [\n",
    "    'nct_id', 'eligibility_criteria', 'overall_status', 'phases', 'study_type',\n",
    "    'minimum_age', 'maximum_age', 'sex', 'healthy_volunteers', 'conditions',\n",
    "    'keywords', 'interventions', 'mesh_terms', 'locations', 'brief_title',\n",
    "    'official_title', 'brief_summary'\n",
    "]"
   ]
  },
  {
   "cell_type": "code",
   "execution_count": null,
   "id": "561b9133",
   "metadata": {},
   "outputs": [],
   "source": [
    "df=df[COLUMNS_TO_KEEP]\n",
    "df.dropna(subset=['eligibility_criteria'], inplace=True)"
   ]
  },
  {
   "cell_type": "code",
   "execution_count": null,
   "id": "62d45988",
   "metadata": {},
   "outputs": [],
   "source": [
    "df['criteria_length'] = df['eligibility_criteria'].str.len()\n",
    "plt.figure(figsize=(12, 6))\n",
    "sns.histplot(df['criteria_length'].dropna(), bins=50, kde=True)\n",
    "plt.title('Distribution of Eligibility Criteria Text Length)')\n",
    "plt.xlabel('No of Char')\n",
    "plt.ylabel('No of Trials')\n",
    "plt.grid(True, linestyle='--', alpha=0.6)\n",
    "plt.show()"
   ]
  },
  {
   "cell_type": "code",
   "execution_count": null,
   "id": "6c119daf",
   "metadata": {},
   "outputs": [],
   "source": [
    "df=segmentation(df)"
   ]
  },
  {
   "cell_type": "code",
   "execution_count": null,
   "id": "a931015d",
   "metadata": {},
   "outputs": [],
   "source": [
    "df1=split[\"test\"].to_pandas()\n",
    "df1=df1[COLUMNS_TO_KEEP]\n",
    "df1.dropna(subset=['eligibility_criteria'], inplace=True)\n",
    "df1=segmentation(df1)"
   ]
  },
  {
   "cell_type": "code",
   "execution_count": 11,
   "id": "7e7f8379",
   "metadata": {},
   "outputs": [],
   "source": [
    "df=pd.read_csv(\"../data/pro/train.csv\")\n",
    "df1=pd.read_csv(\"../data/pro/test.csv\")"
   ]
  },
  {
   "cell_type": "code",
   "execution_count": 12,
   "id": "32559171",
   "metadata": {},
   "outputs": [
    {
     "name": "stdout",
     "output_type": "stream",
     "text": [
      "(486804, 21), (54190, 20)\n"
     ]
    }
   ],
   "source": [
    "print(f\"{df.shape}, {df1.shape}\")"
   ]
  },
  {
   "cell_type": "code",
   "execution_count": 13,
   "id": "7628028b",
   "metadata": {},
   "outputs": [
    {
     "data": {
      "text/plain": [
       "Index(['Unnamed: 0', 'nct_id', 'eligibility_criteria', 'overall_status',\n",
       "       'phases', 'study_type', 'minimum_age', 'maximum_age', 'sex',\n",
       "       'healthy_volunteers', 'conditions', 'keywords', 'interventions',\n",
       "       'mesh_terms', 'locations', 'brief_title', 'official_title',\n",
       "       'brief_summary', 'criteria_length', 'eligibility_criteria_clean',\n",
       "       'segmented_criteria'],\n",
       "      dtype='object')"
      ]
     },
     "execution_count": 13,
     "metadata": {},
     "output_type": "execute_result"
    }
   ],
   "source": [
    "df.columns"
   ]
  },
  {
   "cell_type": "code",
   "execution_count": 14,
   "id": "08c87c60",
   "metadata": {},
   "outputs": [],
   "source": [
    "df_exploded = df.explode('segmented_criteria').rename(columns={'segmented_criteria': 'criterion_text'})\n",
    "df_exploded.dropna(subset=['criterion_text'], inplace=True)\n",
    "final_columns = [col for col in df.columns if col not in ['eligibility_criteria', 'criteria_length', 'segmented_criteria']]\n",
    "final_columns.insert(1, 'criterion_text')\n",
    "df_final = df_exploded[final_columns].copy()"
   ]
  },
  {
   "cell_type": "code",
   "execution_count": 15,
   "id": "b71e79ba",
   "metadata": {},
   "outputs": [
    {
     "data": {
      "text/plain": [
       "(486804, 19)"
      ]
     },
     "execution_count": 15,
     "metadata": {},
     "output_type": "execute_result"
    }
   ],
   "source": [
    "df_final.shape"
   ]
  },
  {
   "cell_type": "code",
   "execution_count": 17,
   "id": "f4fad300",
   "metadata": {},
   "outputs": [],
   "source": [
    "df_exploded1 = df1.explode('segmented_criteria').rename(columns={'segmented_criteria': 'criterion_text'})\n",
    "df_exploded1.dropna(subset=['criterion_text'], inplace=True)\n",
    "final_columns = [col for col in df1.columns if col not in ['eligibility_criteria', 'criteria_length', 'segmented_criteria']]\n",
    "final_columns.insert(1, 'criterion_text')\n",
    "df_final1 = df_exploded1[final_columns].copy()"
   ]
  },
  {
   "cell_type": "code",
   "execution_count": 18,
   "id": "4be5e55f",
   "metadata": {},
   "outputs": [
    {
     "data": {
      "text/plain": [
       "(54190, 19)"
      ]
     },
     "execution_count": 18,
     "metadata": {},
     "output_type": "execute_result"
    }
   ],
   "source": [
    "df_final1.shape"
   ]
  },
  {
   "cell_type": "code",
   "execution_count": 19,
   "id": "ae1722a6",
   "metadata": {},
   "outputs": [],
   "source": [
    "os.makedirs(\"../data/pro\", exist_ok=True)\n",
    "df_final.to_csv(\"../data/pro/train.csv\")\n",
    "df_final1.to_csv(\"../data/pro/test.csv\")"
   ]
  }
 ],
 "metadata": {
  "kernelspec": {
   "display_name": "Python 3",
   "language": "python",
   "name": "python3"
  },
  "language_info": {
   "codemirror_mode": {
    "name": "ipython",
    "version": 3
   },
   "file_extension": ".py",
   "mimetype": "text/x-python",
   "name": "python",
   "nbconvert_exporter": "python",
   "pygments_lexer": "ipython3",
   "version": "3.11.0"
  }
 },
 "nbformat": 4,
 "nbformat_minor": 5
}
