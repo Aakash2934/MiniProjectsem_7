{
 "cells": [
  {
   "cell_type": "code",
   "execution_count": null,
   "id": "dcc48271",
   "metadata": {},
   "outputs": [],
   "source": [
    "from ingest_data import fetch_data\n",
    "from segmentation import segmentation\n",
    "import pandas as pd\n",
    "import matplotlib.pyplot as plt\n",
    "import seaborn as sns\n",
    "from tqdm.auto import tqdm\n",
    "import os"
   ]
  },
  {
   "cell_type": "code",
   "execution_count": null,
   "id": "2e1dad21",
   "metadata": {},
   "outputs": [],
   "source": [
    "dataset_name = \"louisbrulenaudet/clinical-trials\"\n",
    "ds = fetch_data(dataset_name)"
   ]
  },
  {
   "cell_type": "code",
   "execution_count": null,
   "id": "ca9fafb4",
   "metadata": {},
   "outputs": [],
   "source": [
    "tqdm.pandas(desc=\"Segmenting Criteria\")"
   ]
  },
  {
   "cell_type": "code",
   "execution_count": null,
   "id": "ac49ff7b",
   "metadata": {},
   "outputs": [],
   "source": [
    "ds"
   ]
  },
  {
   "cell_type": "code",
   "execution_count": null,
   "id": "2cd6f3d7",
   "metadata": {},
   "outputs": [],
   "source": [
    "split = ds['train'].train_test_split(test_size=0.1, seed=42)\n",
    "split"
   ]
  },
  {
   "cell_type": "code",
   "execution_count": null,
   "id": "81f40a9e",
   "metadata": {},
   "outputs": [],
   "source": [
    "COLUMNS_TO_KEEP = [\n",
    "    'nct_id', 'eligibility_criteria', 'overall_status', 'phases', 'study_type',\n",
    "    'minimum_age', 'maximum_age', 'sex', 'healthy_volunteers', 'conditions',\n",
    "    'keywords', 'interventions', 'mesh_terms', 'locations', 'brief_title',\n",
    "    'official_title', 'brief_summary'\n",
    "]"
   ]
  },
  {
   "cell_type": "code",
   "execution_count": null,
   "id": "561b9133",
   "metadata": {},
   "outputs": [],
   "source": [
    "df=split[\"train\"].to_pandas()\n",
    "df=df[COLUMNS_TO_KEEP]\n",
    "df.dropna(subset=['eligibility_criteria'], inplace=True)"
   ]
  },
  {
   "cell_type": "code",
   "execution_count": null,
   "id": "62d45988",
   "metadata": {},
   "outputs": [],
   "source": [
    "df['criteria_length'] = df['eligibility_criteria'].str.len()\n",
    "plt.figure(figsize=(12, 6))\n",
    "sns.histplot(df['criteria_length'].dropna(), bins=50, kde=True)\n",
    "plt.title('Distribution of Eligibility Criteria Text Length)')\n",
    "plt.xlabel('No of Char')\n",
    "plt.ylabel('No of Trials')\n",
    "plt.grid(True, linestyle='--', alpha=0.6)\n",
    "plt.show()"
   ]
  },
  {
   "cell_type": "code",
   "execution_count": null,
   "id": "6c119daf",
   "metadata": {},
   "outputs": [],
   "source": [
    "df=segmentation(df)"
   ]
  },
  {
   "cell_type": "code",
   "execution_count": null,
   "id": "a931015d",
   "metadata": {},
   "outputs": [],
   "source": [
    "df1=split[\"test\"].to_pandas()\n",
    "df1=df1[COLUMNS_TO_KEEP]\n",
    "df1.dropna(subset=['eligibility_criteria'], inplace=True)\n",
    "df1=segmentation(df1)"
   ]
  },
  {
   "cell_type": "code",
   "execution_count": null,
   "id": "e99fd84f",
   "metadata": {},
   "outputs": [],
   "source": [
    "os.makedirs(\"../data/pro\", exist_ok=True)\n",
    "df.to_csv(\"../data/pro/train.csv\")\n",
    "df1.to_csv(\"../data/pro/test.csv\")"
   ]
  }
 ],
 "metadata": {
  "kernelspec": {
   "display_name": "Python 3",
   "language": "python",
   "name": "python3"
  },
  "language_info": {
   "codemirror_mode": {
    "name": "ipython",
    "version": 3
   },
   "file_extension": ".py",
   "mimetype": "text/x-python",
   "name": "python",
   "nbconvert_exporter": "python",
   "pygments_lexer": "ipython3",
   "version": "3.11.0"
  }
 },
 "nbformat": 4,
 "nbformat_minor": 5
}
