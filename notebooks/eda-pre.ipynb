{
 "cells": [
  {
   "cell_type": "code",
   "execution_count": null,
   "id": "dcc48271",
   "metadata": {},
   "outputs": [
    {
     "name": "stderr",
     "output_type": "stream",
     "text": [
      "c:\\Users\\satis\\OneDrive\\Desktop\\MiniProjectsem_7\\venv\\Lib\\site-packages\\tqdm\\auto.py:21: TqdmWarning: IProgress not found. Please update jupyter and ipywidgets. See https://ipywidgets.readthedocs.io/en/stable/user_install.html\n",
      "  from .autonotebook import tqdm as notebook_tqdm\n"
     ]
    }
   ],
   "source": [
    "from notebooks.ingest_data import fetch_data\n",
    "from notebooks.segmentation import segmentation\n",
    "import pandas as pd\n",
    "import matplotlib.pyplot as plt\n",
    "import seaborn as sns\n",
    "from tqdm.auto import tqdm\n",
    "import os"
   ]
  },
  {
   "cell_type": "code",
   "execution_count": null,
   "id": "2e1dad21",
   "metadata": {},
   "outputs": [],
   "source": [
    "dataset_name = \"louisbrulenaudet/clinical-trials\"\n",
    "ds = fetch_data(dataset_name)"
   ]
  },
  {
   "cell_type": "code",
   "execution_count": null,
   "id": "ca9fafb4",
   "metadata": {},
   "outputs": [],
   "source": [
    "tqdm.pandas(desc=\"Segmenting Criteria\")"
   ]
  },
  {
   "cell_type": "code",
   "execution_count": null,
   "id": "ac49ff7b",
   "metadata": {},
   "outputs": [],
   "source": [
    "ds"
   ]
  },
  {
   "cell_type": "code",
   "execution_count": null,
   "id": "2cd6f3d7",
   "metadata": {},
   "outputs": [],
   "source": [
    "split = ds['train'].train_test_split(test_size=0.1, seed=42)\n",
    "split"
   ]
  },
  {
   "cell_type": "code",
   "execution_count": null,
   "id": "9dde8951",
   "metadata": {},
   "outputs": [],
   "source": [
    "df=split[\"train\"].to_pandas()\n",
    "df.head()"
   ]
  },
  {
   "cell_type": "code",
   "execution_count": null,
   "id": "5c46975f",
   "metadata": {},
   "outputs": [],
   "source": [
    "df.columns"
   ]
  },
  {
   "cell_type": "code",
   "execution_count": null,
   "id": "81f40a9e",
   "metadata": {},
   "outputs": [],
   "source": [
    "COLUMNS_TO_KEEP = [\n",
    "    'nct_id', 'eligibility_criteria', 'overall_status', 'phases', 'study_type',\n",
    "    'minimum_age', 'maximum_age', 'sex', 'healthy_volunteers', 'conditions',\n",
    "    'keywords', 'interventions', 'mesh_terms', 'locations', 'brief_title',\n",
    "    'official_title', 'brief_summary'\n",
    "]"
   ]
  },
  {
   "cell_type": "code",
   "execution_count": null,
   "id": "561b9133",
   "metadata": {},
   "outputs": [],
   "source": [
    "df=df[COLUMNS_TO_KEEP]\n",
    "df.dropna(subset=['eligibility_criteria'], inplace=True)"
   ]
  },
  {
   "cell_type": "code",
   "execution_count": null,
   "id": "62d45988",
   "metadata": {},
   "outputs": [],
   "source": [
    "df['criteria_length'] = df['eligibility_criteria'].str.len()\n",
    "plt.figure(figsize=(12, 6))\n",
    "sns.histplot(df['criteria_length'].dropna(), bins=50, kde=True)\n",
    "plt.title('Distribution of Eligibility Criteria Text Length)')\n",
    "plt.xlabel('No of Char')\n",
    "plt.ylabel('No of Trials')\n",
    "plt.grid(True, linestyle='--', alpha=0.6)\n",
    "plt.show()"
   ]
  },
  {
   "cell_type": "code",
   "execution_count": null,
   "id": "6c119daf",
   "metadata": {},
   "outputs": [],
   "source": [
    "df=segmentation(df)"
   ]
  },
  {
   "cell_type": "code",
   "execution_count": null,
   "id": "a931015d",
   "metadata": {},
   "outputs": [],
   "source": [
    "df1=split[\"test\"].to_pandas()\n",
    "df1=df1[COLUMNS_TO_KEEP]\n",
    "df1.dropna(subset=['eligibility_criteria'], inplace=True)\n",
    "df1=segmentation(df1)"
   ]
  },
  {
   "cell_type": "code",
   "execution_count": 11,
   "id": "7e7f8379",
   "metadata": {},
   "outputs": [],
   "source": [
    "df=pd.read_csv(\"../data/pro/train.csv\")\n",
    "df1=pd.read_csv(\"../data/pro/test.csv\")"
   ]
  },
  {
   "cell_type": "code",
   "execution_count": 12,
   "id": "32559171",
   "metadata": {},
   "outputs": [
    {
     "name": "stdout",
     "output_type": "stream",
     "text": [
      "(486804, 21), (54190, 20)\n"
     ]
    }
   ],
   "source": [
    "print(f\"{df.shape}, {df1.shape}\")"
   ]
  },
  {
   "cell_type": "code",
   "execution_count": 13,
   "id": "7628028b",
   "metadata": {},
   "outputs": [
    {
     "data": {
      "text/plain": [
       "Index(['Unnamed: 0', 'nct_id', 'eligibility_criteria', 'overall_status',\n",
       "       'phases', 'study_type', 'minimum_age', 'maximum_age', 'sex',\n",
       "       'healthy_volunteers', 'conditions', 'keywords', 'interventions',\n",
       "       'mesh_terms', 'locations', 'brief_title', 'official_title',\n",
       "       'brief_summary', 'criteria_length', 'eligibility_criteria_clean',\n",
       "       'segmented_criteria'],\n",
       "      dtype='object')"
      ]
     },
     "execution_count": 13,
     "metadata": {},
     "output_type": "execute_result"
    }
   ],
   "source": [
    "df.columns"
   ]
  },
  {
   "cell_type": "code",
   "execution_count": 14,
   "id": "08c87c60",
   "metadata": {},
   "outputs": [],
   "source": [
    "df_exploded = df.explode('segmented_criteria').rename(columns={'segmented_criteria': 'criterion_text'})\n",
    "df_exploded.dropna(subset=['criterion_text'], inplace=True)\n",
    "final_columns = [col for col in df.columns if col not in ['eligibility_criteria', 'criteria_length', 'segmented_criteria']]\n",
    "final_columns.insert(1, 'criterion_text')\n",
    "df_final = df_exploded[final_columns].copy()"
   ]
  },
  {
   "cell_type": "code",
   "execution_count": 15,
   "id": "b71e79ba",
   "metadata": {},
   "outputs": [
    {
     "data": {
      "text/plain": [
       "(486804, 19)"
      ]
     },
     "execution_count": 15,
     "metadata": {},
     "output_type": "execute_result"
    }
   ],
   "source": [
    "df_final.shape"
   ]
  },
  {
   "cell_type": "code",
   "execution_count": 17,
   "id": "f4fad300",
   "metadata": {},
   "outputs": [],
   "source": [
    "df_exploded1 = df1.explode('segmented_criteria').rename(columns={'segmented_criteria': 'criterion_text'})\n",
    "df_exploded1.dropna(subset=['criterion_text'], inplace=True)\n",
    "final_columns = [col for col in df1.columns if col not in ['eligibility_criteria', 'criteria_length', 'segmented_criteria']]\n",
    "final_columns.insert(1, 'criterion_text')\n",
    "df_final1 = df_exploded1[final_columns].copy()"
   ]
  },
  {
   "cell_type": "code",
   "execution_count": 18,
   "id": "4be5e55f",
   "metadata": {},
   "outputs": [
    {
     "data": {
      "text/plain": [
       "(54190, 19)"
      ]
     },
     "execution_count": 18,
     "metadata": {},
     "output_type": "execute_result"
    }
   ],
   "source": [
    "df_final1.shape"
   ]
  },
  {
   "cell_type": "code",
   "execution_count": 19,
   "id": "ae1722a6",
   "metadata": {},
   "outputs": [],
   "source": [
    "os.makedirs(\"../data/pro\", exist_ok=True)\n",
    "df_final.to_csv(\"../data/pro/train.csv\")\n",
    "df_final1.to_csv(\"../data/pro/test.csv\")"
   ]
  },
  {
   "cell_type": "code",
   "execution_count": 23,
   "id": "5423b3e1",
   "metadata": {},
   "outputs": [],
   "source": [
    "import pandas as pd"
   ]
  },
  {
   "cell_type": "code",
   "execution_count": 24,
   "id": "c87a3d32",
   "metadata": {},
   "outputs": [
    {
     "data": {
      "application/vnd.microsoft.datawrangler.viewer.v0+json": {
       "columns": [
        {
         "name": "index",
         "rawType": "int64",
         "type": "integer"
        },
        {
         "name": "nct_id",
         "rawType": "object",
         "type": "string"
        },
        {
         "name": "criterion_text",
         "rawType": "object",
         "type": "string"
        },
        {
         "name": "overall_status",
         "rawType": "object",
         "type": "string"
        },
        {
         "name": "phases",
         "rawType": "object",
         "type": "string"
        },
        {
         "name": "study_type",
         "rawType": "object",
         "type": "string"
        },
        {
         "name": "minimum_age",
         "rawType": "float64",
         "type": "float"
        },
        {
         "name": "maximum_age",
         "rawType": "float64",
         "type": "float"
        },
        {
         "name": "sex",
         "rawType": "object",
         "type": "string"
        },
        {
         "name": "healthy_volunteers",
         "rawType": "object",
         "type": "unknown"
        },
        {
         "name": "conditions",
         "rawType": "object",
         "type": "string"
        },
        {
         "name": "keywords",
         "rawType": "object",
         "type": "unknown"
        },
        {
         "name": "interventions",
         "rawType": "float64",
         "type": "float"
        },
        {
         "name": "mesh_terms",
         "rawType": "object",
         "type": "unknown"
        },
        {
         "name": "locations",
         "rawType": "object",
         "type": "unknown"
        },
        {
         "name": "brief_title",
         "rawType": "object",
         "type": "string"
        },
        {
         "name": "official_title",
         "rawType": "object",
         "type": "string"
        },
        {
         "name": "brief_summary",
         "rawType": "object",
         "type": "string"
        }
       ],
       "ref": "b1c79888-41cc-4acb-bb04-d4ee8eaba527",
       "rows": [
        [
         "0",
         "NCT06736834",
         "Inclusion Criteria:\nUniversity students at school\nExclusion Criteria:\nSmoking (≥1 cigarette/week);\nheavy alcohol consumption (\\>224 g/week for men and \\>168 g/week for women);",
         "NOT_YET_RECRUITING",
         "['NA']",
         "INTERVENTIONAL",
         "18.0",
         "30.0",
         "ALL",
         "True",
         "['Dietary Preferences' 'Sensory Evaluation' 'Healthy Individuals']",
         null,
         null,
         null,
         null,
         "Sensory Evaluation of Chinese Specialty Foods",
         "Sensory Evaluation of Chinese Specialty Foods",
         "This project aims at college student consumers, recruiting a certain number of college student volunteers as sensory evaluators, and requiring them to evaluate samples of Babao Congee and deep-fried dough sticks."
        ],
        [
         "1",
         "NCT05792254",
         "Inclusion Criteria:\n≥18years old\nHistopathologically confirmed FIGO II-IV stage primary ovarian cancer peritoneal or fallopian tube cancer\nPatients who underwent primary tumor reduction or intermediate tumor reduction with satisfactory results (R0/R1) within 15 days after surgery\nAfter tumor reduction, the physician assessed that chemotherapy was not suitable or the patient was unwilling to receive chemotherapy\nLife expectancy is 3 months\nLiver and kidney function :\nAST and ALT 3 times the upper limit of normal value or 5 times the upper limit of normal value in the presence of liver metastasis; T\nhe upper limit of total bilirubin 3 times normal value;\nSerum creatinine is 3 times the upper limit of normal\nNo other tumors, no history of other malignant tumors (except non-melanoma skin cancer in situ cervical cancer or other cancers that have received curative treatment and have no signs of disease for at least 5 years)\nVoluntarily participate in the study and sign the informed consent\nExclusion Criteria:\nBreastfeeding women during pregnancy\nRecurrent ovarian cancer\nKnown allergy to the study drug;\nCentral nervous system diseases or brain metastases;\nHistory of abdominal/pelvic radiotherapy;\nHistory of organ transplantation history of immune deficiency disease requiring systemic steroid therapy or other immunosuppressive therapy\nHiv-ag /AB test result is positive;\nComplicated with serious cardiovascular and cerebrovascular diseases or other serious diseases affecting follow-up treatment of subjects: such as myocardial infarction, unstable angina, stroke or transient ischemic attack within 6 months; Uncontrolled hypertension after antihypertensive therapy (systolic ≥140 or diastolic ≥90 mmHg); Uncontrolled diabetes mellitus (HbA1c\\>0%) etc\nParticipate in other clinical study patients within 1 month\nPoor compliance is estimated to be difficult to complete the follow-up\nIn addition to the above, the investigator determined that the patients were not suitable for the clinical trial",
         "UNKNOWN",
         "['NA']",
         "INTERVENTIONAL",
         "18.0",
         null,
         "FEMALE",
         "False",
         "['Primary Ovarian Cancer' 'Fallopian Tube Cancer' 'Peritoneal Cancer']",
         null,
         null,
         "{'conditions': array([{'id': 'D005185', 'term': 'Fallopian Tube Neoplasms'},\n       {'id': 'D010534', 'term': 'Peritoneal Neoplasms'}], dtype=object), 'interventions': None}",
         null,
         "Huaier Granule in Patients With Stage I Primary Ovarian Fallopian Tube Cancer After Peritoneal Cancer",
         "Efficacy and Safety of Huaier Granule in Patients With Stage I Primary Ovarian Fallopian Tube Cancer After Peritoneal Cancer: a Single-center Prospective Single-arm Study",
         "This study is an exploratory, single-center, prospective single-arm study to explore the efficacy of Huaier granules in the treatment of stage Ⅱ-Ⅳ primary ovarian cancer, fallopian tube cancer, and peritoneal cancer after satisfactory tumor reduction (R0/R1). Twenty-five patients with FIGOⅡ-Ⅳ ovarian cancer, peritoneal cancer or tubal cancer confirmed by histopathology were enrolled and treated with Huaier granules. During the study period, the patients were followed up once at 3 months, and the medication was continued until progression or intolerability of toxicity. This is an exploratory, single-center, prospective single-arm study to explore the efficacy of Huaier granules in the treatment of stage Ⅱ-Ⅳ primary ovarian cancer, fallopian tube cancer, and peritoneal cancer after satisfactory tumor reduction (R0/R1). Twenty-five patients with FIGOⅡ-Ⅳ ovarian cancer, peritoneal cancer or tubal cancer confirmed by histopathology were enrolled and treated with Huaier granules. During the study period, the patients were followed up once at 3 months, and the medication was continued until progression or intolerability of toxicity."
        ],
        [
         "2",
         "NCT02926157",
         "Inclusion Criteria:\nSleep complaints\nCommunity-dwelling (not in a long term care facility)\nRead, write, and speak English\nAble to walk independently\nIn sufficient health to participate in regular physical activity\nExclusion Criteria:\nDiagnosis of obstructive sleep apnea\nReceiving continuous positive air pressure (CPAP) treatment\nDiagnosed with dementia of any type\nAt high risk for cardiac complications during physical activity or unable to self-regulate activity or understand recommended activity level\nHave a clinically important peripheral neuropathy or sever musculoskeletal or joint disease that impairs mobility",
         "COMPLETED",
         "['NA']",
         "INTERVENTIONAL",
         "65.0",
         "85.0",
         "ALL",
         "False",
         "['Sleep' 'Aging']",
         null,
         null,
         null,
         "[{'city': 'Vancouver', 'country': 'Canada', 'facility': 'University of British Columbia', 'geoPoint': {'lat': 49.24966, 'lon': -123.11934}, 'state': 'British Columbia'}]",
         "Buying Time: Improving Sleep to Promote Cognitive Function in Older Adults",
         "Buying Time: Improving Sleep to Promote Cognitive Function in Older Adults",
         "The purpose of this study is to investigate whether a comprehensive group education combined with a lifestyle \"activation\" program that includes (a) sleep hygiene course, (b) physical activity promotion, and (c) bright light therapy, can improve both sleep quality and cognitive function among 96 community-dwelling older adults."
        ],
        [
         "3",
         "NCT03814707",
         "Inclusion Criteria for participants:\nPatients with mucogingival defects scheduled for free gingival graft\nAge at least 18 years.",
         "UNKNOWN",
         "['NA']",
         "INTERVENTIONAL",
         "18.0",
         "65.0",
         "ALL",
         "True",
         "['Pain, Postoperative']",
         "[\"gingival recession\", \"gingival augmentation\", \"free gingival graft\", \"platelet rich fibrin in wound healing\", \"2 steps free gingival graft\", \"hyaluronic acid in wound healing\"]",
         null,
         "{'conditions': array([{'id': 'D010149', 'term': 'Pain, Postoperative'}], dtype=object), 'interventions': array([{'id': 'D006820', 'term': 'Hyaluronic Acid'}], dtype=object)}",
         "[{'city': 'Giza', 'country': 'Egypt', 'facility': 'Faculty of Dental Medicine - Cairo University -', 'geoPoint': {'lat': 30.00808, 'lon': 31.21093}, 'state': None}]",
         "Platelet Rich Fibrin VS Hyaloronic Acid in Management of Pain After Harvesting a Free Gingival Graft",
         "Clinical Comparison of Platelet Rich Fibrin Versus Topical Application of Hyaluronic-Acid Gel in Management of Pain And Wound Healing After Free Gingival Graft Harvesting: A Randomized Clinical Trial",
         "Comparative study to assess the efficacy of topical application of 0.2% hyaluronic acid vs platelet rich fibrin in decreasing a postoperative pain following free gingival graft procedure .\n\n."
        ],
        [
         "4",
         "NCT03814707",
         "Not having any systemic disease that could compromise wound healing\nNo previous periodontal surgery on the experimental sites.",
         "UNKNOWN",
         "['NA']",
         "INTERVENTIONAL",
         "18.0",
         "65.0",
         "ALL",
         "True",
         "['Pain, Postoperative']",
         "[\"gingival recession\", \"gingival augmentation\", \"free gingival graft\", \"platelet rich fibrin in wound healing\", \"2 steps free gingival graft\", \"hyaluronic acid in wound healing\"]",
         null,
         "{'conditions': array([{'id': 'D010149', 'term': 'Pain, Postoperative'}], dtype=object), 'interventions': array([{'id': 'D006820', 'term': 'Hyaluronic Acid'}], dtype=object)}",
         "[{'city': 'Giza', 'country': 'Egypt', 'facility': 'Faculty of Dental Medicine - Cairo University -', 'geoPoint': {'lat': 30.00808, 'lon': 31.21093}, 'state': None}]",
         "Platelet Rich Fibrin VS Hyaloronic Acid in Management of Pain After Harvesting a Free Gingival Graft",
         "Clinical Comparison of Platelet Rich Fibrin Versus Topical Application of Hyaluronic-Acid Gel in Management of Pain And Wound Healing After Free Gingival Graft Harvesting: A Randomized Clinical Trial",
         "Comparative study to assess the efficacy of topical application of 0.2% hyaluronic acid vs platelet rich fibrin in decreasing a postoperative pain following free gingival graft procedure .\n\n."
        ]
       ],
       "shape": {
        "columns": 17,
        "rows": 5
       }
      },
      "text/html": [
       "<div>\n",
       "<style scoped>\n",
       "    .dataframe tbody tr th:only-of-type {\n",
       "        vertical-align: middle;\n",
       "    }\n",
       "\n",
       "    .dataframe tbody tr th {\n",
       "        vertical-align: top;\n",
       "    }\n",
       "\n",
       "    .dataframe thead th {\n",
       "        text-align: right;\n",
       "    }\n",
       "</style>\n",
       "<table border=\"1\" class=\"dataframe\">\n",
       "  <thead>\n",
       "    <tr style=\"text-align: right;\">\n",
       "      <th></th>\n",
       "      <th>nct_id</th>\n",
       "      <th>criterion_text</th>\n",
       "      <th>overall_status</th>\n",
       "      <th>phases</th>\n",
       "      <th>study_type</th>\n",
       "      <th>minimum_age</th>\n",
       "      <th>maximum_age</th>\n",
       "      <th>sex</th>\n",
       "      <th>healthy_volunteers</th>\n",
       "      <th>conditions</th>\n",
       "      <th>keywords</th>\n",
       "      <th>interventions</th>\n",
       "      <th>mesh_terms</th>\n",
       "      <th>locations</th>\n",
       "      <th>brief_title</th>\n",
       "      <th>official_title</th>\n",
       "      <th>brief_summary</th>\n",
       "    </tr>\n",
       "  </thead>\n",
       "  <tbody>\n",
       "    <tr>\n",
       "      <th>0</th>\n",
       "      <td>NCT06736834</td>\n",
       "      <td>Inclusion Criteria:\\nUniversity students at sc...</td>\n",
       "      <td>NOT_YET_RECRUITING</td>\n",
       "      <td>['NA']</td>\n",
       "      <td>INTERVENTIONAL</td>\n",
       "      <td>18.0</td>\n",
       "      <td>30.0</td>\n",
       "      <td>ALL</td>\n",
       "      <td>True</td>\n",
       "      <td>['Dietary Preferences' 'Sensory Evaluation' 'H...</td>\n",
       "      <td>NaN</td>\n",
       "      <td>NaN</td>\n",
       "      <td>NaN</td>\n",
       "      <td>NaN</td>\n",
       "      <td>Sensory Evaluation of Chinese Specialty Foods</td>\n",
       "      <td>Sensory Evaluation of Chinese Specialty Foods</td>\n",
       "      <td>This project aims at college student consumers...</td>\n",
       "    </tr>\n",
       "    <tr>\n",
       "      <th>1</th>\n",
       "      <td>NCT05792254</td>\n",
       "      <td>Inclusion Criteria:\\n≥18years old\\nHistopathol...</td>\n",
       "      <td>UNKNOWN</td>\n",
       "      <td>['NA']</td>\n",
       "      <td>INTERVENTIONAL</td>\n",
       "      <td>18.0</td>\n",
       "      <td>NaN</td>\n",
       "      <td>FEMALE</td>\n",
       "      <td>False</td>\n",
       "      <td>['Primary Ovarian Cancer' 'Fallopian Tube Canc...</td>\n",
       "      <td>NaN</td>\n",
       "      <td>NaN</td>\n",
       "      <td>{'conditions': array([{'id': 'D005185', 'term'...</td>\n",
       "      <td>NaN</td>\n",
       "      <td>Huaier Granule in Patients With Stage I Primar...</td>\n",
       "      <td>Efficacy and Safety of Huaier Granule in Patie...</td>\n",
       "      <td>This study is an exploratory, single-center, p...</td>\n",
       "    </tr>\n",
       "    <tr>\n",
       "      <th>2</th>\n",
       "      <td>NCT02926157</td>\n",
       "      <td>Inclusion Criteria:\\nSleep complaints\\nCommuni...</td>\n",
       "      <td>COMPLETED</td>\n",
       "      <td>['NA']</td>\n",
       "      <td>INTERVENTIONAL</td>\n",
       "      <td>65.0</td>\n",
       "      <td>85.0</td>\n",
       "      <td>ALL</td>\n",
       "      <td>False</td>\n",
       "      <td>['Sleep' 'Aging']</td>\n",
       "      <td>NaN</td>\n",
       "      <td>NaN</td>\n",
       "      <td>NaN</td>\n",
       "      <td>[{'city': 'Vancouver', 'country': 'Canada', 'f...</td>\n",
       "      <td>Buying Time: Improving Sleep to Promote Cognit...</td>\n",
       "      <td>Buying Time: Improving Sleep to Promote Cognit...</td>\n",
       "      <td>The purpose of this study is to investigate wh...</td>\n",
       "    </tr>\n",
       "    <tr>\n",
       "      <th>3</th>\n",
       "      <td>NCT03814707</td>\n",
       "      <td>Inclusion Criteria for participants:\\nPatients...</td>\n",
       "      <td>UNKNOWN</td>\n",
       "      <td>['NA']</td>\n",
       "      <td>INTERVENTIONAL</td>\n",
       "      <td>18.0</td>\n",
       "      <td>65.0</td>\n",
       "      <td>ALL</td>\n",
       "      <td>True</td>\n",
       "      <td>['Pain, Postoperative']</td>\n",
       "      <td>[\"gingival recession\", \"gingival augmentation\"...</td>\n",
       "      <td>NaN</td>\n",
       "      <td>{'conditions': array([{'id': 'D010149', 'term'...</td>\n",
       "      <td>[{'city': 'Giza', 'country': 'Egypt', 'facilit...</td>\n",
       "      <td>Platelet Rich Fibrin VS Hyaloronic Acid in Man...</td>\n",
       "      <td>Clinical Comparison of Platelet Rich Fibrin Ve...</td>\n",
       "      <td>Comparative study to assess the efficacy of to...</td>\n",
       "    </tr>\n",
       "    <tr>\n",
       "      <th>4</th>\n",
       "      <td>NCT03814707</td>\n",
       "      <td>Not having any systemic disease that could com...</td>\n",
       "      <td>UNKNOWN</td>\n",
       "      <td>['NA']</td>\n",
       "      <td>INTERVENTIONAL</td>\n",
       "      <td>18.0</td>\n",
       "      <td>65.0</td>\n",
       "      <td>ALL</td>\n",
       "      <td>True</td>\n",
       "      <td>['Pain, Postoperative']</td>\n",
       "      <td>[\"gingival recession\", \"gingival augmentation\"...</td>\n",
       "      <td>NaN</td>\n",
       "      <td>{'conditions': array([{'id': 'D010149', 'term'...</td>\n",
       "      <td>[{'city': 'Giza', 'country': 'Egypt', 'facilit...</td>\n",
       "      <td>Platelet Rich Fibrin VS Hyaloronic Acid in Man...</td>\n",
       "      <td>Clinical Comparison of Platelet Rich Fibrin Ve...</td>\n",
       "      <td>Comparative study to assess the efficacy of to...</td>\n",
       "    </tr>\n",
       "  </tbody>\n",
       "</table>\n",
       "</div>"
      ],
      "text/plain": [
       "        nct_id                                     criterion_text  \\\n",
       "0  NCT06736834  Inclusion Criteria:\\nUniversity students at sc...   \n",
       "1  NCT05792254  Inclusion Criteria:\\n≥18years old\\nHistopathol...   \n",
       "2  NCT02926157  Inclusion Criteria:\\nSleep complaints\\nCommuni...   \n",
       "3  NCT03814707  Inclusion Criteria for participants:\\nPatients...   \n",
       "4  NCT03814707  Not having any systemic disease that could com...   \n",
       "\n",
       "       overall_status  phases      study_type  minimum_age  maximum_age  \\\n",
       "0  NOT_YET_RECRUITING  ['NA']  INTERVENTIONAL         18.0         30.0   \n",
       "1             UNKNOWN  ['NA']  INTERVENTIONAL         18.0          NaN   \n",
       "2           COMPLETED  ['NA']  INTERVENTIONAL         65.0         85.0   \n",
       "3             UNKNOWN  ['NA']  INTERVENTIONAL         18.0         65.0   \n",
       "4             UNKNOWN  ['NA']  INTERVENTIONAL         18.0         65.0   \n",
       "\n",
       "      sex healthy_volunteers  \\\n",
       "0     ALL               True   \n",
       "1  FEMALE              False   \n",
       "2     ALL              False   \n",
       "3     ALL               True   \n",
       "4     ALL               True   \n",
       "\n",
       "                                          conditions  \\\n",
       "0  ['Dietary Preferences' 'Sensory Evaluation' 'H...   \n",
       "1  ['Primary Ovarian Cancer' 'Fallopian Tube Canc...   \n",
       "2                                  ['Sleep' 'Aging']   \n",
       "3                            ['Pain, Postoperative']   \n",
       "4                            ['Pain, Postoperative']   \n",
       "\n",
       "                                            keywords  interventions  \\\n",
       "0                                                NaN            NaN   \n",
       "1                                                NaN            NaN   \n",
       "2                                                NaN            NaN   \n",
       "3  [\"gingival recession\", \"gingival augmentation\"...            NaN   \n",
       "4  [\"gingival recession\", \"gingival augmentation\"...            NaN   \n",
       "\n",
       "                                          mesh_terms  \\\n",
       "0                                                NaN   \n",
       "1  {'conditions': array([{'id': 'D005185', 'term'...   \n",
       "2                                                NaN   \n",
       "3  {'conditions': array([{'id': 'D010149', 'term'...   \n",
       "4  {'conditions': array([{'id': 'D010149', 'term'...   \n",
       "\n",
       "                                           locations  \\\n",
       "0                                                NaN   \n",
       "1                                                NaN   \n",
       "2  [{'city': 'Vancouver', 'country': 'Canada', 'f...   \n",
       "3  [{'city': 'Giza', 'country': 'Egypt', 'facilit...   \n",
       "4  [{'city': 'Giza', 'country': 'Egypt', 'facilit...   \n",
       "\n",
       "                                         brief_title  \\\n",
       "0      Sensory Evaluation of Chinese Specialty Foods   \n",
       "1  Huaier Granule in Patients With Stage I Primar...   \n",
       "2  Buying Time: Improving Sleep to Promote Cognit...   \n",
       "3  Platelet Rich Fibrin VS Hyaloronic Acid in Man...   \n",
       "4  Platelet Rich Fibrin VS Hyaloronic Acid in Man...   \n",
       "\n",
       "                                      official_title  \\\n",
       "0      Sensory Evaluation of Chinese Specialty Foods   \n",
       "1  Efficacy and Safety of Huaier Granule in Patie...   \n",
       "2  Buying Time: Improving Sleep to Promote Cognit...   \n",
       "3  Clinical Comparison of Platelet Rich Fibrin Ve...   \n",
       "4  Clinical Comparison of Platelet Rich Fibrin Ve...   \n",
       "\n",
       "                                       brief_summary  \n",
       "0  This project aims at college student consumers...  \n",
       "1  This study is an exploratory, single-center, p...  \n",
       "2  The purpose of this study is to investigate wh...  \n",
       "3  Comparative study to assess the efficacy of to...  \n",
       "4  Comparative study to assess the efficacy of to...  "
      ]
     },
     "execution_count": 24,
     "metadata": {},
     "output_type": "execute_result"
    }
   ],
   "source": [
    "df=pd.read_csv(\"../data/processed/train.csv\")\n",
    "df.head(5)"
   ]
  }
 ],
 "metadata": {
  "kernelspec": {
   "display_name": "Python 3",
   "language": "python",
   "name": "python3"
  },
  "language_info": {
   "codemirror_mode": {
    "name": "ipython",
    "version": 3
   },
   "file_extension": ".py",
   "mimetype": "text/x-python",
   "name": "python",
   "nbconvert_exporter": "python",
   "pygments_lexer": "ipython3",
   "version": "3.11.0"
  }
 },
 "nbformat": 4,
 "nbformat_minor": 5
}
